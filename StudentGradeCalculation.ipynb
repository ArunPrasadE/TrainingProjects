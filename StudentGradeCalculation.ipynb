{
 "cells": [
  {
   "cell_type": "code",
   "execution_count": 22,
   "id": "e01ce1af-0ebd-4ba7-a195-2fb93ce9eb0d",
   "metadata": {},
   "outputs": [],
   "source": [
    "class Student:\n",
    "    dept = \"Environmental Engineering\"\n",
    "    \n",
    "    def __init__(self):\n",
    "        self.name = \"\"\n",
    "        self.number = \"\"\n",
    "        self.sex = \"\"\n",
    "        self.marks = 0\n",
    "    \n",
    "    def  gradeCalc(self):\n",
    "        if self.marks >= 90:\n",
    "            self.grade = \"S\"\n",
    "        elif self.marks >= 50:\n",
    "            self.grade = \"A\"\n",
    "        else:\n",
    "            self.grade = \"RA\"\n",
    "    \n",
    "    def result(self):\n",
    "        if self.grade != \"RA\":\n",
    "            self.result = \"PASS\"\n",
    "        else:\n",
    "            self.result = \"FAIL\"\n",
    "    \n",
    "    def displayDetails(self):\n",
    "        self.gradeCalc()\n",
    "        self.result()\n",
    "        print(f\"\"\"\n",
    "        \n",
    "        Name        : {self.name}\n",
    "        Reg. number : {self.number}\n",
    "        Sex         : {self.sex}\n",
    "        Marks       : {self.marks}\n",
    "        Grade       : {self.grade}\n",
    "        Result      : {self.result}\n",
    "        Department  : {Student.dept}\n",
    "        \n",
    "        \"\"\")\n",
    "    \n",
    "    def getInput(self):\n",
    "        self.name = input(\"Enter your name: \")\n",
    "        self.number = input(\"Enter your Reg. number: \")\n",
    "        self.sex = input(\"Enter your sex(Male/Female): \")\n",
    "        self.marks = int(input(\"Enter your mark: \"))\n",
    "            "
   ]
  },
  {
   "cell_type": "code",
   "execution_count": 23,
   "id": "b329ae16-a473-463b-bdc2-df3b9ed2cdc8",
   "metadata": {},
   "outputs": [],
   "source": [
    "s1 = Student()"
   ]
  },
  {
   "cell_type": "markdown",
   "id": "489c81dc-37f5-4bcc-a21f-c789d17c8cc3",
   "metadata": {
    "tags": []
   },
   "source": [
    "s1.displayDetails() "
   ]
  },
  {
   "cell_type": "code",
   "execution_count": 25,
   "id": "d61e0701-df32-422b-b34e-802459c9b90e",
   "metadata": {},
   "outputs": [
    {
     "name": "stdin",
     "output_type": "stream",
     "text": [
      "Enter your name:  Arun\n",
      "Enter your Reg. number:  12345\n",
      "Enter your sex(Male/Female):  Male\n",
      "Enter your mark:  67\n"
     ]
    }
   ],
   "source": [
    "s1.getInput()"
   ]
  },
  {
   "cell_type": "code",
   "execution_count": 26,
   "id": "423a6834-e446-4189-9510-f460c2ae569f",
   "metadata": {},
   "outputs": [
    {
     "name": "stdout",
     "output_type": "stream",
     "text": [
      "\n",
      "        \n",
      "        Name        : Arun\n",
      "        Reg. number : 12345\n",
      "        Sex         : Male\n",
      "        Marks       : 67\n",
      "        Grade       : A\n",
      "        Result      : PASS\n",
      "        Department  : Environmental Engineering\n",
      "        \n",
      "        \n"
     ]
    }
   ],
   "source": [
    "s1.displayDetails()"
   ]
  }
 ],
 "metadata": {
  "kernelspec": {
   "display_name": "Python 3 (ipykernel)",
   "language": "python",
   "name": "python3"
  },
  "language_info": {
   "codemirror_mode": {
    "name": "ipython",
    "version": 3
   },
   "file_extension": ".py",
   "mimetype": "text/x-python",
   "name": "python",
   "nbconvert_exporter": "python",
   "pygments_lexer": "ipython3",
   "version": "3.9.12"
  }
 },
 "nbformat": 4,
 "nbformat_minor": 5
}
