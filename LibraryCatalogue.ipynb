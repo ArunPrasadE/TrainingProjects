{
 "cells": [
  {
   "cell_type": "markdown",
   "id": "d2e0e330-cf40-4762-a6d8-622ba94b138c",
   "metadata": {},
   "source": [
    "class Media:\n",
    "    Attributes: title, price\n",
    "    Methods: getInput, dispDetails\n",
    "    class Books(Media):\n",
    "        Attributes: pages\n",
    "        Methods: getInput, dispDetails\n",
    "    class Tape(Media):\n",
    "        Attributes: time\n",
    "        Methods: getInput, dispDetails\n",
    "    "
   ]
  },
  {
   "cell_type": "code",
   "execution_count": 13,
   "id": "8fdce42f-c216-47c9-b51a-a50d3e6b09c7",
   "metadata": {},
   "outputs": [],
   "source": [
    "class Media:\n",
    "    \n",
    "    def __init__(self):\n",
    "        print(\"Media category\")\n",
    "        self.title = \"\"\n",
    "        self.price = 0\n",
    "        \n",
    "    def getInput(self):\n",
    "        self.title = input(\"Enter title: \")\n",
    "        self.price = int(input(\"Enter price:\"))\n",
    "    \n",
    "    def dispDetails(self):\n",
    "        print(f\"\"\"\n",
    "                Title : {self.title}\n",
    "                Price : {self.price}\n",
    "        \"\"\")\n",
    "        \n",
    "\n",
    "class Books(Media):\n",
    "    \n",
    "    def __init__(self):\n",
    "        print(\"Book Category\")\n",
    "        self.pages = 0\n",
    "        \n",
    "    def getInput(self):\n",
    "        Media.getInput(self)\n",
    "        self.pages = int(input(\"Enter number of pages: \"))\n",
    "        \n",
    "    def dispDetails(self):\n",
    "        Media.dispDetails(self)\n",
    "        print(f\"\"\"\n",
    "                No. of pages: {self.pages}\n",
    "        \"\"\")\n",
    " \n",
    "\n",
    "class Tape(Media):\n",
    "    \n",
    "    def __init__(self):\n",
    "        print(\"Tape Category\")\n",
    "        self.time = 0\n",
    "        \n",
    "    def getInput(self):\n",
    "        Media.getInput(self)\n",
    "        self.time = int(input(\"Enter total time(mins): \"))\n",
    "        \n",
    "    def dispDetails(self):\n",
    "        Media.dispDetails(self)\n",
    "        print(f\"\"\"\n",
    "                Duration of tape: {self.time} mins\n",
    "        \"\"\")"
   ]
  },
  {
   "cell_type": "code",
   "execution_count": 14,
   "id": "5b3996a5-50e5-4dcc-a1d3-397edf6b607e",
   "metadata": {},
   "outputs": [
    {
     "name": "stdout",
     "output_type": "stream",
     "text": [
      "Book Category\n"
     ]
    }
   ],
   "source": [
    "b = Books()"
   ]
  },
  {
   "cell_type": "code",
   "execution_count": 15,
   "id": "011e3099-58b9-4b43-943a-7be5184b1456",
   "metadata": {},
   "outputs": [
    {
     "name": "stdin",
     "output_type": "stream",
     "text": [
      "Enter title:  Asdas\n",
      "Enter price: 124\n",
      "Enter number of pages:  55\n"
     ]
    }
   ],
   "source": [
    "b.getInput()"
   ]
  },
  {
   "cell_type": "code",
   "execution_count": 16,
   "id": "752160d3-f4c4-40c2-88ba-5e5222df98e1",
   "metadata": {},
   "outputs": [
    {
     "name": "stdout",
     "output_type": "stream",
     "text": [
      "\n",
      "                Title : Asdas\n",
      "                Price : 124\n",
      "        \n",
      "\n",
      "                No. of pages: 55\n",
      "        \n"
     ]
    }
   ],
   "source": [
    "b.dispDetails()"
   ]
  },
  {
   "cell_type": "code",
   "execution_count": 17,
   "id": "995b0933-0b21-4d55-9e9a-6667620cd5d5",
   "metadata": {},
   "outputs": [
    {
     "name": "stdout",
     "output_type": "stream",
     "text": [
      "Tape Category\n"
     ]
    }
   ],
   "source": [
    "t = Tape()"
   ]
  },
  {
   "cell_type": "code",
   "execution_count": 18,
   "id": "3e9e1b13-e4ef-4d53-b484-e9ee1bd59ed2",
   "metadata": {},
   "outputs": [
    {
     "name": "stdin",
     "output_type": "stream",
     "text": [
      "Enter title:  ASdasfas\n",
      "Enter price: 324\n",
      "Enter total time(mins):  30\n"
     ]
    }
   ],
   "source": [
    "t.getInput()"
   ]
  },
  {
   "cell_type": "code",
   "execution_count": 19,
   "id": "1c7e863f-620d-47e4-950c-417a0a5997b6",
   "metadata": {},
   "outputs": [
    {
     "name": "stdout",
     "output_type": "stream",
     "text": [
      "\n",
      "                Title : ASdasfas\n",
      "                Price : 324\n",
      "        \n",
      "\n",
      "                Duration of tape: 30 mins\n",
      "        \n"
     ]
    }
   ],
   "source": [
    "t.dispDetails()"
   ]
  },
  {
   "cell_type": "code",
   "execution_count": null,
   "id": "ce007a3f-3191-4f11-809c-fb3cc3acfb01",
   "metadata": {},
   "outputs": [],
   "source": []
  }
 ],
 "metadata": {
  "kernelspec": {
   "display_name": "Python 3 (ipykernel)",
   "language": "python",
   "name": "python3"
  },
  "language_info": {
   "codemirror_mode": {
    "name": "ipython",
    "version": 3
   },
   "file_extension": ".py",
   "mimetype": "text/x-python",
   "name": "python",
   "nbconvert_exporter": "python",
   "pygments_lexer": "ipython3",
   "version": "3.9.12"
  }
 },
 "nbformat": 4,
 "nbformat_minor": 5
}
