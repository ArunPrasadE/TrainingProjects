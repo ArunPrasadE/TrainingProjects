{
 "cells": [
  {
   "cell_type": "code",
   "execution_count": 2,
   "id": "407dc9fe-1617-47f8-a61b-ce0f715707c2",
   "metadata": {},
   "outputs": [
    {
     "name": "stdout",
     "output_type": "stream",
     "text": [
      "c1: 1+i\n",
      "c2: 2-3i\n",
      "c1+c2: 3-2i\n"
     ]
    }
   ],
   "source": [
    "#PLUS OPERATOR - NEW MEANING - POLYMORPHISM\n",
    "\n",
    "\n",
    "class Complex:\n",
    "    def __init__(self, real=0, imag=0):\n",
    "        self.real = real\n",
    "        self.imag = imag\n",
    " \n",
    "     # adding two objects\n",
    "    def __add__(self, other):\n",
    "        x = self.real + other.real\n",
    "        y = self.imag + other.imag\n",
    "        return Complex(x,y)\n",
    "    \n",
    "    def __str__(self):\n",
    "        if self.imag < 0:\n",
    "            if self.imag == -1:\n",
    "                 return (f\"{self.real}-i\")\n",
    "            else:\n",
    "                 return (f\"{self.real}{self.imag}i\")\n",
    "        if self.imag == 1:\n",
    "            return (f\"{self.real}+i\")\n",
    "        else:\n",
    "            return (f\"{self.real}+{self.imag}i\")\n",
    " \n",
    "c1 = Complex(1, 1)\n",
    "c2 = Complex(2, -3)\n",
    "c3 = Complex()\n",
    "c3 = c1 + c2       \n",
    "print(f\"c1: {c1}\")\n",
    "print(f\"c2: {c2}\")\n",
    "print(f\"c1+c2: {c3}\")"
   ]
  }
 ],
 "metadata": {
  "kernelspec": {
   "display_name": "Python 3 (ipykernel)",
   "language": "python",
   "name": "python3"
  },
  "language_info": {
   "codemirror_mode": {
    "name": "ipython",
    "version": 3
   },
   "file_extension": ".py",
   "mimetype": "text/x-python",
   "name": "python",
   "nbconvert_exporter": "python",
   "pygments_lexer": "ipython3",
   "version": "3.9.12"
  }
 },
 "nbformat": 4,
 "nbformat_minor": 5
}
