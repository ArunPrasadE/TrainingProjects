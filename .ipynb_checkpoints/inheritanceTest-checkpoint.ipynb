{
 "cells": [
  {
   "cell_type": "code",
   "execution_count": 2,
   "id": "437ec698-483e-4cff-8f9a-377a39c41388",
   "metadata": {},
   "outputs": [
    {
     "ename": "TypeError",
     "evalue": "Complex() takes no arguments",
     "output_type": "error",
     "traceback": [
      "\u001b[1;31m---------------------------------------------------------------------------\u001b[0m",
      "\u001b[1;31mTypeError\u001b[0m                                 Traceback (most recent call last)",
      "Input \u001b[1;32mIn [2]\u001b[0m, in \u001b[0;36m<cell line: 26>\u001b[1;34m()\u001b[0m\n\u001b[0;32m     23\u001b[0m         \u001b[38;5;28;01melse\u001b[39;00m:\n\u001b[0;32m     24\u001b[0m             \u001b[38;5;28;01mreturn\u001b[39;00m (\u001b[38;5;124mf\u001b[39m\u001b[38;5;124m\"\u001b[39m\u001b[38;5;132;01m{\u001b[39;00m\u001b[38;5;28mself\u001b[39m\u001b[38;5;241m.\u001b[39mreal\u001b[38;5;132;01m}\u001b[39;00m\u001b[38;5;124m+\u001b[39m\u001b[38;5;132;01m{\u001b[39;00m\u001b[38;5;28mself\u001b[39m\u001b[38;5;241m.\u001b[39mimag\u001b[38;5;132;01m}\u001b[39;00m\u001b[38;5;124mi\u001b[39m\u001b[38;5;124m\"\u001b[39m)\n\u001b[1;32m---> 26\u001b[0m c1 \u001b[38;5;241m=\u001b[39m \u001b[43mComplex\u001b[49m\u001b[43m(\u001b[49m\u001b[38;5;241;43m1\u001b[39;49m\u001b[43m,\u001b[49m\u001b[38;5;241;43m1\u001b[39;49m\u001b[43m)\u001b[49m\n\u001b[0;32m     27\u001b[0m c2 \u001b[38;5;241m=\u001b[39m Complex(\u001b[38;5;241m2\u001b[39m,\u001b[38;5;241m-\u001b[39m\u001b[38;5;241m3\u001b[39m)\n\u001b[0;32m     28\u001b[0m c3 \u001b[38;5;241m=\u001b[39m Complex()\n",
      "\u001b[1;31mTypeError\u001b[0m: Complex() takes no arguments"
     ]
    }
   ],
   "source": [
    "#PLUS OPERATOR - NEW MEANING - POLYMORPHISM\n",
    "\n",
    "\n",
    "class Complex:\n",
    "    def _init_(self, real=0, imag=0):\n",
    "        self.real = real\n",
    "        self.imag = imag\n",
    " \n",
    "     # adding two objects\n",
    "    def _add_(self, other):\n",
    "        x = self.real + other.real\n",
    "        y = self.imag + other.imag\n",
    "        return Complex(x,y)\n",
    "    \n",
    "    def _str_(self):\n",
    "        if self.imag < 0:\n",
    "            if self.imag == -1:\n",
    "                 return (f\"{self.real}-i\")\n",
    "            else:\n",
    "                 return (f\"{self.real}{self.imag}i\")\n",
    "        if self.imag == 1:\n",
    "            return (f\"{self.real}+i\")\n",
    "        else:\n",
    "            return (f\"{self.real}+{self.imag}i\")\n",
    " \n",
    "c1 = Complex(1, 1)\n",
    "c2 = Complex(2, -3)\n",
    "c3 = Complex()\n",
    "c3 = c1 + c2       \n",
    "print(f\"c1: {c1}\")\n",
    "print(f\"c2: {c2}\")\n",
    "print(f\"c1+c2: {c3}\")"
   ]
  },
  {
   "cell_type": "code",
   "execution_count": null,
   "id": "abb120fc-7087-4701-9856-0f48975fceaf",
   "metadata": {},
   "outputs": [],
   "source": []
  }
 ],
 "metadata": {
  "kernelspec": {
   "display_name": "Python 3 (ipykernel)",
   "language": "python",
   "name": "python3"
  },
  "language_info": {
   "codemirror_mode": {
    "name": "ipython",
    "version": 3
   },
   "file_extension": ".py",
   "mimetype": "text/x-python",
   "name": "python",
   "nbconvert_exporter": "python",
   "pygments_lexer": "ipython3",
   "version": "3.9.12"
  }
 },
 "nbformat": 4,
 "nbformat_minor": 5
}
