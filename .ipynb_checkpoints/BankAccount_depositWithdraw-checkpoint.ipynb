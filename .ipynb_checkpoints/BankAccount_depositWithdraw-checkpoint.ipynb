{
 "cells": [
  {
   "cell_type": "markdown",
   "id": "736dd5ea-5d7f-4a84-a2dd-3c8bdb26a22f",
   "metadata": {},
   "source": [
    "class Account:\n",
    "    Attributes : name, accNum, balance\n",
    "    Methods: getInput, dispDetails\n",
    "    class SavingsAccount(Account)\n",
    "        Class Object Attribute (COA) : interest\n",
    "        Methods: deposit, withdraw, interestCalc \n",
    "    class CurrentAccount(Account)\n",
    "        COA : minBal = 1000\n",
    "        Attributes: penalty=500, overDraw=-5000\n",
    "        Methods: deposit, withdraw\n",
    "        # deposit: check penalty amount and reduce the penalty\n",
    "        if penalty = 500:\n",
    "                bal = bal + deposit\n",
    "                if bal-penalty >= min.bal:\n",
    "                    penalty = 0\n",
    "                    bal = bal-penalty\n",
    "                else:\n",
    "                    penalty = 500\n",
    "        else:\n",
    "        bal = bal+deposit\n",
    "          # Withdraw\n",
    "          while True                             \n",
    "          if withdraw > bal:\n",
    "                if (bal-withdraw) <= overDraw:\n",
    "                     penalty = 500\n",
    "                     bal = bal-withdraw\n",
    "                                 break\n",
    "                else (bal-withdraw) > overDraw:\n",
    "                        Error. Withrawl amount exceeds overDraw amount\n",
    "\n",
    "# deposit\n",
    "\n"
   ]
  },
  {
   "cell_type": "code",
   "execution_count": 89,
   "id": "a595cf2a-9e57-4eb2-9400-f597e020710a",
   "metadata": {},
   "outputs": [],
   "source": [
    "class Account():\n",
    "    \n",
    "    bank = \"SBI\"\n",
    "    branch = \"Vellamadam\"\n",
    "    branchCode = 123456\n",
    "    bal = 0\n",
    "    \n",
    "    def __init__(self):\n",
    "        self.name = \"\"\n",
    "        self.accNum = 0\n",
    "        \n",
    "    def getInput(self):\n",
    "        self.name = input(\"Enter account holder's name: \")\n",
    "        self.accNum = int(input(\"Enter accound Number: \"))\n",
    "    \n",
    "    def dispDetails(self):\n",
    "        print(f\"\"\"\n",
    "        Account Holder's name  : {self.name}\n",
    "        Account number         : {self.accNum}\n",
    "        Bank name/Branch       : {Account.bank}/{Account.branch}\n",
    "        Branch code            : {Account.branchCode}\n",
    "        Available balance      : Rs.{Account.bal}\n",
    "        Penalty Amount         : Rs. {CurrentAccount.penalty}\n",
    "        \"\"\")\n",
    "\n",
    "#       \n",
    "class SavingsAccount(Account):\n",
    "\n",
    "    interest = 0.05\n",
    "\n",
    "    def __init__(self):\n",
    "        #Account.__init__(self):\n",
    "        print(\"Savings Account details\")\n",
    "\n",
    "    def deposit(self):\n",
    "        self.depositAmount = int(input(\"Enter the amount to deposit: \"))\n",
    "        Account.bal = self.depositAmount+Account.bal\n",
    "    \n",
    "    def withdraw(self):\n",
    "        while True:\n",
    "            self.withdraw = int(input(\"Enter the withdrawl amount: \"))\n",
    "            if self.withdraw <= Account.bal:\n",
    "                Account.bal = Account.bal-self.withdraw\n",
    "                break\n",
    "            else:\n",
    "                print(f\"\"\"\n",
    "                Insufficient Balance!!\n",
    "                Available balance : {Account.bal}    \n",
    "                \"\"\")\n",
    "    \n",
    "    def interestCalc(self):\n",
    "        Account.bal = Account.bal + (SavingsAccount.interest*Account.bal)\n",
    "        print(f\"Balance with interest is: {Account.bal}\")\n",
    "        \n",
    "\n",
    "class CurrentAccount(Account):\n",
    "    \n",
    "    minBal = 1000\n",
    "    penalty = 0\n",
    "    overDraw = -5000\n",
    "    \n",
    "    def deposit(self):\n",
    "        self.depositAmount = int(input(\"Enter deposit amount: \"))\n",
    "        if CurrentAccount.penalty == 500:\n",
    "            Account.bal = Account.bal + self.depositAmount\n",
    "            if (Account.bal-CurrentAccount.penalty) >= CurrentAccount.minBal:\n",
    "                CurrentAccount.penalty = 0\n",
    "                Account.bal = Account.bal - CurrentAccount.penalty\n",
    "            else:\n",
    "                CurrentAccount.penalty = 500\n",
    "        else:\n",
    "            Account.bal = Account.bal + self.depositAmount\n",
    "            \n",
    "    def withdraw(self):\n",
    "        while True:\n",
    "            self.withdrawAmount = int(input(\"Enter Withdrawl amount: \"))\n",
    "            if (Account.bal - self.withdrawAmount) < CurrentAccount.minBal:\n",
    "                if (Account.bal - self.withdrawAmount) < 0:\n",
    "                    if (Account.bal - self.withdrawAmount) >= CurrentAccount.overDraw:\n",
    "                        CurrentAccount.penalty = 500\n",
    "                        Account.bal = (Account.bal - self.withdrawAmount)\n",
    "                        break\n",
    "                    else:\n",
    "                        print(f\"Error. Withdrawl amount exceeds alloted over draw of Rs.{CurrentAccount.overDraw}\")\n",
    "                else:\n",
    "                    CurrentAccount.penalty = 500\n",
    "                    Account.bal = (Account.bal - self.withdrawAmount)\n",
    "                    break\n",
    "            else:\n",
    "                CurrentAccount.penalty = 0\n",
    "                Account.bal = (Account.bal - self.withdrawAmount)\n",
    "                break"
   ]
  },
  {
   "cell_type": "code",
   "execution_count": 90,
   "id": "bb05f428-503a-4119-892e-15987d93298d",
   "metadata": {},
   "outputs": [],
   "source": [
    "a = CurrentAccount()"
   ]
  },
  {
   "cell_type": "code",
   "execution_count": 91,
   "id": "074aecba-ac84-4de8-9d50-02477355d75f",
   "metadata": {},
   "outputs": [
    {
     "name": "stdin",
     "output_type": "stream",
     "text": [
      "Enter account holder's name:  asdasd\n",
      "Enter accound Number:  123123\n"
     ]
    }
   ],
   "source": [
    "a.getInput()"
   ]
  },
  {
   "cell_type": "code",
   "execution_count": 99,
   "id": "2c3b4f2e-3245-44c6-b444-1426d088594d",
   "metadata": {},
   "outputs": [
    {
     "name": "stdout",
     "output_type": "stream",
     "text": [
      "\n",
      "        Account Holder's name  : asdasd\n",
      "        Account number         : 123123\n",
      "        Bank name/Branch       : SBI/Vellamadam\n",
      "        Branch code            : 123456\n",
      "        Available balance      : Rs.2500\n",
      "        Penalty Amount         : Rs. 0\n",
      "        \n"
     ]
    }
   ],
   "source": [
    "a.dispDetails()"
   ]
  },
  {
   "cell_type": "code",
   "execution_count": 98,
   "id": "efdf654f-94b7-4d65-b164-ee4a414af8c5",
   "metadata": {},
   "outputs": [
    {
     "name": "stdin",
     "output_type": "stream",
     "text": [
      "Enter deposit amount:  2000\n"
     ]
    }
   ],
   "source": [
    "a.deposit()"
   ]
  },
  {
   "cell_type": "code",
   "execution_count": 94,
   "id": "3c24fb79-bf60-441e-a32f-cf44eb589956",
   "metadata": {},
   "outputs": [
    {
     "name": "stdin",
     "output_type": "stream",
     "text": [
      "Enter Withdrawl amount:  10000\n"
     ]
    },
    {
     "name": "stdout",
     "output_type": "stream",
     "text": [
      "Error. Withdrawl amount exceeds alloted over draw of Rs.-5000\n"
     ]
    },
    {
     "name": "stdin",
     "output_type": "stream",
     "text": [
      "Enter Withdrawl amount:  3000\n"
     ]
    }
   ],
   "source": [
    "a.withdraw()"
   ]
  },
  {
   "cell_type": "code",
   "execution_count": 26,
   "id": "97d6c651-b57e-4c02-9b89-ecf5c9388f0d",
   "metadata": {},
   "outputs": [
    {
     "data": {
      "text/plain": [
       "method"
      ]
     },
     "execution_count": 26,
     "metadata": {},
     "output_type": "execute_result"
    }
   ],
   "source": [
    "type(a.deposit)"
   ]
  },
  {
   "cell_type": "code",
   "execution_count": 40,
   "id": "4790585d-d460-4225-b080-1a3b22874002",
   "metadata": {},
   "outputs": [
    {
     "data": {
      "text/plain": [
       "-1000"
      ]
     },
     "execution_count": 40,
     "metadata": {},
     "output_type": "execute_result"
    }
   ],
   "source": [
    "2000 -3000"
   ]
  },
  {
   "cell_type": "code",
   "execution_count": null,
   "id": "4965e93f-c1d0-4964-96b9-2beb9658a183",
   "metadata": {},
   "outputs": [],
   "source": []
  }
 ],
 "metadata": {
  "kernelspec": {
   "display_name": "Python 3 (ipykernel)",
   "language": "python",
   "name": "python3"
  },
  "language_info": {
   "codemirror_mode": {
    "name": "ipython",
    "version": 3
   },
   "file_extension": ".py",
   "mimetype": "text/x-python",
   "name": "python",
   "nbconvert_exporter": "python",
   "pygments_lexer": "ipython3",
   "version": "3.9.12"
  }
 },
 "nbformat": 4,
 "nbformat_minor": 5
}
