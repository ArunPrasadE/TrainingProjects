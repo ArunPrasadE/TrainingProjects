{
 "cells": [
  {
   "cell_type": "markdown",
   "id": "d2e0e330-cf40-4762-a6d8-622ba94b138c",
   "metadata": {},
   "source": [
    "class Media:\n",
    "    Attributes: title, price\n",
    "    Methods: getInput, dispDetails\n",
    "    class Books(Media):\n",
    "        Attributes: pages\n",
    "        Methods: getInput, dispDetails\n",
    "    class Tape(Media):\n",
    "        Attributes: time\n",
    "        Methods: getInput, dispDetails\n",
    "    "
   ]
  }
 ],
 "metadata": {
  "kernelspec": {
   "display_name": "Python 3 (ipykernel)",
   "language": "python",
   "name": "python3"
  },
  "language_info": {
   "codemirror_mode": {
    "name": "ipython",
    "version": 3
   },
   "file_extension": ".py",
   "mimetype": "text/x-python",
   "name": "python",
   "nbconvert_exporter": "python",
   "pygments_lexer": "ipython3",
   "version": "3.9.12"
  }
 },
 "nbformat": 4,
 "nbformat_minor": 5
}
