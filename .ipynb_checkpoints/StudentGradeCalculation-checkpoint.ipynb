{
 "cells": [
  {
   "cell_type": "code",
   "execution_count": 22,
   "id": "e01ce1af-0ebd-4ba7-a195-2fb93ce9eb0d",
   "metadata": {},
   "outputs": [],
   "source": [
    "class Student:\n",
    "    dept = \"Environmental Engineering\"\n",
    "    \n",
    "    def __init__(self):\n",
    "        self.name = \"\"\n",
    "        self.number = \"\"\n",
    "        self.sex = \"\"\n",
    "        self.marks = 0\n",
    "    \n",
    "    def  gradeCalc(self):\n",
    "        if self.marks >= 90:\n",
    "            self.grade = \"S\"\n",
    "        elif self.marks >= 50:\n",
    "            self.grade = \"A\"\n",
    "        else:\n",
    "            self.grade = \"RA\"\n",
    "    \n",
    "    def result(self):\n",
    "        if self.grade != \"RA\":\n",
    "            self.result = \"PASS\"\n",
    "        else:\n",
    "            self.result = \"FAIL\"\n",
    "    \n",
    "    def displayDetails(self):\n",
    "        self.gradeCalc()\n",
    "        self.result()\n",
    "        print(f\"\"\"\n",
    "        \n",
    "        Name        : {self.name}\n",
    "        Reg. number : {self.number}\n",
    "        Sex         : {self.sex}\n",
    "        Marks       : {self.marks}\n",
    "        Grade       : {self.grade}\n",
    "        Result      : {self.result}\n",
    "        Department  : {Student.dept}\n",
    "        \n",
    "        \"\"\")\n",
    "    \n",
    "    def getInput(self):\n",
    "        self.name = input(\"Enter your name: \")\n",
    "        self.number = input(\"Enter your Reg. number: \")\n",
    "        self.sex = input(\"Enter your sex(Male/Female): \")\n",
    "        self.marks = int(input(\"Enter your mark: \"))\n",
    "            "
   ]
  },
  {
   "cell_type": "code",
   "execution_count": 23,
   "id": "b329ae16-a473-463b-bdc2-df3b9ed2cdc8",
   "metadata": {},
   "outputs": [],
   "source": [
    "s1 = Student()"
   ]
  },
  {
   "cell_type": "markdown",
   "id": "489c81dc-37f5-4bcc-a21f-c789d17c8cc3",
   "metadata": {
    "tags": []
   },
   "source": [
    "s1.displayDetails() "
   ]
  },
  {
   "cell_type": "code",
   "execution_count": 25,
   "id": "d61e0701-df32-422b-b34e-802459c9b90e",
   "metadata": {},
   "outputs": [
    {
     "name": "stdin",
     "output_type": "stream",
     "text": [
      "Enter your name:  Arun\n",
      "Enter your Reg. number:  12345\n",
      "Enter your sex(Male/Female):  Male\n",
      "Enter your mark:  67\n"
     ]
    }
   ],
   "source": [
    "s1.getInput()"
   ]
  },
  {
   "cell_type": "code",
   "execution_count": 26,
   "id": "423a6834-e446-4189-9510-f460c2ae569f",
   "metadata": {},
   "outputs": [
    {
     "name": "stdout",
     "output_type": "stream",
     "text": [
      "\n",
      "        \n",
      "        Name        : Arun\n",
      "        Reg. number : 12345\n",
      "        Sex         : Male\n",
      "        Marks       : 67\n",
      "        Grade       : A\n",
      "        Result      : PASS\n",
      "        Department  : Environmental Engineering\n",
      "        \n",
      "        \n"
     ]
    }
   ],
   "source": [
    "s1.displayDetails()"
   ]
  },
  {
   "cell_type": "code",
   "execution_count": 1,
   "id": "c7880ff4-2432-45dd-bee2-e2e9eeb61366",
   "metadata": {},
   "outputs": [],
   "source": [
    "class BankAccount():\n",
    "    \n",
    "    branch = \"Vellamadam\"\n",
    "    bankName = \"SBI\"\n",
    "    IFSCCode = \"12345\"\n",
    "    \n",
    "    def __init__(self,balance=0):\n",
    "        self.name = \"\"\n",
    "        self.accnum = \"\"\n",
    "        self.balance = balance\n",
    "        \n",
    "    def getInput(self):\n",
    "        self.name = input(\"Enter your name: \")\n",
    "        self.accnum = input(\"Enter your account number: \")\n",
    "    \n",
    "    def deposit(self):\n",
    "        depositAmount = int(input(\"Enter an amount to deposit: \"))\n",
    "        self.balance += depositAmount\n",
    "    \n",
    "    def withdraw(self):\n",
    "        while True:\n",
    "            drawAmount = int(input(\"Enter an amount to withdraw: \"))\n",
    "            if drawAmount>self.balance:\n",
    "                print(f\"ERROR! Insufficient Balance. Available balance: Rs.{self.balance}\")\n",
    "                if self.balance == 0:\n",
    "                    break\n",
    "            else:\n",
    "                self.balance -= drawAmount\n",
    "                break\n",
    "    \n",
    "    def dispDetails(self):\n",
    "        print(f\"\"\"\n",
    "        Account holder name   : {self.name}\n",
    "        Account number        : {self.accnum}\n",
    "        Bank name             : {BankAccount.bankName}\n",
    "        Branch&Code           : {BankAccount.branch} & {BankAccount.IFSCCode}\n",
    "        Current Balance       : Rs.{self.balance}\n",
    "        \"\"\")\n",
    "        "
   ]
  },
  {
   "cell_type": "code",
   "execution_count": 2,
   "id": "9a9cd671-9be0-44d5-a824-8d77a6b90142",
   "metadata": {},
   "outputs": [],
   "source": [
    "h1 = BankAccount()"
   ]
  },
  {
   "cell_type": "code",
   "execution_count": 3,
   "id": "069bad3f-036e-4e66-8be6-69f99b0c6fce",
   "metadata": {},
   "outputs": [
    {
     "name": "stdin",
     "output_type": "stream",
     "text": [
      "Enter your name:  a\n",
      "Enter your account number:  12345\n"
     ]
    }
   ],
   "source": [
    "h1.getInput()"
   ]
  },
  {
   "cell_type": "code",
   "execution_count": 48,
   "id": "7f3d73cd-942a-4802-bf26-14f88dec0287",
   "metadata": {},
   "outputs": [
    {
     "name": "stdin",
     "output_type": "stream",
     "text": [
      "Enter an amount to withdraw:  100\n"
     ]
    },
    {
     "name": "stdout",
     "output_type": "stream",
     "text": [
      "ERROR! Insufficient Balance. Available balance: Rs.0\n"
     ]
    }
   ],
   "source": [
    "h1.withdraw()"
   ]
  },
  {
   "cell_type": "code",
   "execution_count": 4,
   "id": "3927508a-8ca6-411f-9024-b854c4d25ca5",
   "metadata": {},
   "outputs": [
    {
     "name": "stdin",
     "output_type": "stream",
     "text": [
      "Enter an amount to deposit:  100\n"
     ]
    }
   ],
   "source": [
    "h1.deposit()"
   ]
  },
  {
   "cell_type": "code",
   "execution_count": 5,
   "id": "c8bd3762-5b0d-4efa-976e-c15655bc9561",
   "metadata": {},
   "outputs": [
    {
     "name": "stdout",
     "output_type": "stream",
     "text": [
      "\n",
      "        Account holder name   : a\n",
      "        Account number        : 12345\n",
      "        Bank name             : SBI\n",
      "        Branch&Code           : Vellamadam & 12345\n",
      "        Current Balance       : Rs.100\n",
      "        \n"
     ]
    }
   ],
   "source": [
    "h1.dispDetails()"
   ]
  },
  {
   "cell_type": "code",
   "execution_count": 6,
   "id": "61052d41-2258-4324-82f5-74b4ddd3bfca",
   "metadata": {},
   "outputs": [
    {
     "name": "stdin",
     "output_type": "stream",
     "text": [
      "Enter an amount to withdraw:  105\n"
     ]
    },
    {
     "name": "stdout",
     "output_type": "stream",
     "text": [
      "ERROR! Insufficient Balance. Available balance: Rs.100\n"
     ]
    },
    {
     "name": "stdin",
     "output_type": "stream",
     "text": [
      "Enter an amount to withdraw:  50\n"
     ]
    }
   ],
   "source": [
    "h1.withdraw()"
   ]
  },
  {
   "cell_type": "code",
   "execution_count": 7,
   "id": "f25d5b58-0436-4750-97c8-d91c88301d93",
   "metadata": {},
   "outputs": [
    {
     "name": "stdout",
     "output_type": "stream",
     "text": [
      "\n",
      "        Account holder name   : a\n",
      "        Account number        : 12345\n",
      "        Bank name             : SBI\n",
      "        Branch&Code           : Vellamadam & 12345\n",
      "        Current Balance       : Rs.50\n",
      "        \n"
     ]
    }
   ],
   "source": [
    "h1.dispDetails()"
   ]
  },
  {
   "cell_type": "code",
   "execution_count": null,
   "id": "49e99aea-19c0-495c-bf05-28f8b3ed57f7",
   "metadata": {},
   "outputs": [],
   "source": []
  }
 ],
 "metadata": {
  "kernelspec": {
   "display_name": "Python 3 (ipykernel)",
   "language": "python",
   "name": "python3"
  },
  "language_info": {
   "codemirror_mode": {
    "name": "ipython",
    "version": 3
   },
   "file_extension": ".py",
   "mimetype": "text/x-python",
   "name": "python",
   "nbconvert_exporter": "python",
   "pygments_lexer": "ipython3",
   "version": "3.9.12"
  }
 },
 "nbformat": 4,
 "nbformat_minor": 5
}
